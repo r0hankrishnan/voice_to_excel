{
 "cells": [
  {
   "cell_type": "markdown",
   "metadata": {},
   "source": [
    "## Whisper & Llama3.2 Extraction & Preprocessing Pipeline\n",
    "\n",
    "##### Test pipeline process for extracting transcription and reformatting it so it is readable by pandas."
   ]
  },
  {
   "cell_type": "code",
   "execution_count": null,
   "metadata": {},
   "outputs": [
    {
     "name": "stderr",
     "output_type": "stream",
     "text": [
      "/Users/rohankrishnan/Documents/GitHub/voice_to_excel/venv/lib/python3.10/site-packages/whisper/__init__.py:150: FutureWarning: You are using `torch.load` with `weights_only=False` (the current default value), which uses the default pickle module implicitly. It is possible to construct malicious pickle data which will execute arbitrary code during unpickling (See https://github.com/pytorch/pytorch/blob/main/SECURITY.md#untrusted-models for more details). In a future release, the default value for `weights_only` will be flipped to `True`. This limits the functions that could be executed during unpickling. Arbitrary objects will no longer be allowed to be loaded via this mode unless they are explicitly allowlisted by the user via `torch.serialization.add_safe_globals`. We recommend you start setting `weights_only=True` for any use case where you don't have full control of the loaded file. Please open an issue on GitHub for any issues related to this experimental feature.\n",
      "  checkpoint = torch.load(fp, map_location=device)\n"
     ]
    }
   ],
   "source": [
    "import whisper\n",
    "\n",
    "model = whisper.load_model(\"base\")\n",
    "result = model.transcribe(\"../data/Test.wav\", \n",
    "                          initial_prompt= \"You will get a serious of entry fields and values. Convert the word colon to ':'.\",\n",
    "                          fp16 = False)"
   ]
  },
  {
   "cell_type": "code",
   "execution_count": null,
   "metadata": {},
   "outputs": [],
   "source": [
    "result['text']"
   ]
  },
  {
   "cell_type": "code",
   "execution_count": 49,
   "metadata": {},
   "outputs": [],
   "source": [
    "result2 = model.transcribe(\"Test2.wav\", fp16=False)"
   ]
  },
  {
   "cell_type": "code",
   "execution_count": null,
   "metadata": {},
   "outputs": [],
   "source": [
    "txt = result2['text'];txt"
   ]
  },
  {
   "cell_type": "code",
   "execution_count": null,
   "metadata": {},
   "outputs": [],
   "source": [
    "txt.lower().strip()"
   ]
  },
  {
   "cell_type": "code",
   "execution_count": 26,
   "metadata": {},
   "outputs": [],
   "source": [
    "result3 = model.transcribe(\"Test3.wav\", fp16 = False)"
   ]
  },
  {
   "cell_type": "code",
   "execution_count": null,
   "metadata": {},
   "outputs": [],
   "source": [
    "result3['text']"
   ]
  },
  {
   "cell_type": "code",
   "execution_count": null,
   "metadata": {},
   "outputs": [],
   "source": [
    "import ollama\n",
    "\n",
    "prompt = f'''\n",
    "            You will recieve a string. Your job is to parse the text and create a python dict that maps the category (e.g patient name) to its value.\n",
    "            DO NOT RETURN ANY PREAMBLE. ONLY RETURN THE PYTHON DICTIONARY WITH THE PARSED FIELDS. \n",
    "            I DO NOT WANT A PYTHON FUNCTION. I WANT YOU TO ACTUALLY CREATE AND RETURN THE DICTIONARY.\n",
    "            \n",
    "            Here is an example:\n",
    "            \"dict(input: \"patient name, kevin bacon, date of service, may 23rd, 2024, level of service, annual visit, \n",
    "                        location, hospice, code 1, heart attack, code 2, tiny balls.\",\n",
    "                output: dict('patient_name:': 'Kevin Bacon', 'date_of_service': '05-23-2024', \n",
    "                        'level_of_service': 'annual visit', 'location':'hospice', 'code_1': 'heart attack', 'code_2': 'tiny balls')\") \n",
    "            \n",
    "            Here is the string you will evaluate {txt.strip().lower()}. \n",
    "            DO NOT RETURN ANY PREAMBLE. ONLY RETURN THE PYTHON DICTIONARY WITH THE PARSED FIELDS. \n",
    "            I DO NOT WANT A PYTHON FUNCTION. I WANT YOU TO ACTUALLY CREATE AND RETURN THE DICTIONARY.\n",
    "\n",
    "            '''\n",
    "response = ollama.chat(\n",
    "    model = \"llama3.2\",\n",
    "    messages = [{'role':'user', 'content':prompt}]\n",
    ")\n",
    "\n",
    "print(response['message']['content'])"
   ]
  }
 ],
 "metadata": {
  "kernelspec": {
   "display_name": "venv",
   "language": "python",
   "name": "python3"
  },
  "language_info": {
   "codemirror_mode": {
    "name": "ipython",
    "version": 3
   },
   "file_extension": ".py",
   "mimetype": "text/x-python",
   "name": "python",
   "nbconvert_exporter": "python",
   "pygments_lexer": "ipython3",
   "version": "3.10.15"
  }
 },
 "nbformat": 4,
 "nbformat_minor": 2
}
